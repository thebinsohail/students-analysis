{
 "cells": [
  {
   "cell_type": "code",
   "execution_count": 181,
   "id": "fe06f202",
   "metadata": {},
   "outputs": [],
   "source": [
    "import csv"
   ]
  },
  {
   "cell_type": "code",
   "execution_count": 182,
   "id": "b1779238",
   "metadata": {},
   "outputs": [],
   "source": [
    "file=open(\"students.csv\", encoding=\"utf-8\")\n",
    "data=csv.reader(file)\n",
    "dataset=list(data)"
   ]
  },
  {
   "cell_type": "code",
   "execution_count": 183,
   "id": "81064bcd",
   "metadata": {},
   "outputs": [
    {
     "data": {
      "text/plain": [
       "481"
      ]
     },
     "execution_count": 183,
     "metadata": {},
     "output_type": "execute_result"
    }
   ],
   "source": [
    "#printing the length of the dataset\n",
    "len(dataset)"
   ]
  },
  {
   "cell_type": "code",
   "execution_count": 184,
   "id": "163374c7",
   "metadata": {},
   "outputs": [],
   "source": [
    "# Getting the headers of the dataset\n",
    "dataset_headings=dataset[0]"
   ]
  },
  {
   "cell_type": "code",
   "execution_count": 185,
   "id": "7a22f0c9",
   "metadata": {},
   "outputs": [],
   "source": [
    "#dataset_headings"
   ]
  },
  {
   "cell_type": "code",
   "execution_count": 186,
   "id": "9cb6ea8a",
   "metadata": {},
   "outputs": [
    {
     "ename": "TypeError",
     "evalue": "unsupported operand type(s) for +=: 'int' and 'str'",
     "output_type": "error",
     "traceback": [
      "\u001b[0;31m---------------------------------------------------------------------------\u001b[0m",
      "\u001b[0;31mTypeError\u001b[0m                                 Traceback (most recent call last)",
      "\u001b[0;32m<ipython-input-186-1b6a30e330e4>\u001b[0m in \u001b[0;36m<module>\u001b[0;34m\u001b[0m\n\u001b[1;32m      4\u001b[0m \u001b[0mfemale_students\u001b[0m\u001b[0;34m=\u001b[0m\u001b[0;34m[\u001b[0m\u001b[0;34m]\u001b[0m\u001b[0;34m\u001b[0m\u001b[0;34m\u001b[0m\u001b[0m\n\u001b[1;32m      5\u001b[0m \u001b[0;32mfor\u001b[0m \u001b[0mi\u001b[0m \u001b[0;32min\u001b[0m \u001b[0mdataset\u001b[0m\u001b[0;34m:\u001b[0m\u001b[0;34m\u001b[0m\u001b[0;34m\u001b[0m\u001b[0m\n\u001b[0;32m----> 6\u001b[0;31m     \u001b[0mtotal_students\u001b[0m\u001b[0;34m+=\u001b[0m\u001b[0mi\u001b[0m\u001b[0;34m[\u001b[0m\u001b[0;36m0\u001b[0m\u001b[0;34m]\u001b[0m\u001b[0;34m\u001b[0m\u001b[0;34m\u001b[0m\u001b[0m\n\u001b[0m\u001b[1;32m      7\u001b[0m     \u001b[0mgender\u001b[0m\u001b[0;34m=\u001b[0m\u001b[0mi\u001b[0m\u001b[0;34m[\u001b[0m\u001b[0;36m0\u001b[0m\u001b[0;34m]\u001b[0m\u001b[0;34m\u001b[0m\u001b[0;34m\u001b[0m\u001b[0m\n\u001b[1;32m      8\u001b[0m     \u001b[0;32mif\u001b[0m \u001b[0mgender\u001b[0m \u001b[0;34m==\u001b[0m\u001b[0;34m\"M\"\u001b[0m\u001b[0;34m:\u001b[0m\u001b[0;34m\u001b[0m\u001b[0;34m\u001b[0m\u001b[0m\n",
      "\u001b[0;31mTypeError\u001b[0m: unsupported operand type(s) for +=: 'int' and 'str'"
     ]
    }
   ],
   "source": [
    "## Number of Male and Female Students\n",
    "total_students={}\n",
    "male_students=[]\n",
    "female_students=[]\n",
    "for i in dataset:\n",
    "    gender=i[0]\n",
    "    if gender ==\"M\":\n",
    "        male_students.append(gender)\n",
    "    elif gender==\"F\":\n",
    "        female_students.append(gender)"
   ]
  },
  {
   "cell_type": "code",
   "execution_count": null,
   "id": "c99c7f90",
   "metadata": {},
   "outputs": [],
   "source": [
    "male_count=len(male_students)\n",
    "female_count=len(female_students)"
   ]
  },
  {
   "cell_type": "code",
   "execution_count": null,
   "id": "70a61b0b",
   "metadata": {},
   "outputs": [],
   "source": [
    "#creating a dictionary key/value\n",
    "gender={\"male\":male_count,\"female\":female_count}"
   ]
  },
  {
   "cell_type": "code",
   "execution_count": null,
   "id": "0ac8252b",
   "metadata": {},
   "outputs": [],
   "source": [
    "print(gender)"
   ]
  },
  {
   "cell_type": "code",
   "execution_count": null,
   "id": "908b4c65",
   "metadata": {},
   "outputs": [],
   "source": [
    "nationality=[]\n",
    "for i in dataset:\n",
    "    if(i[1]!='NationalITy'):\n",
    "     nationality.append(i[1])"
   ]
  },
  {
   "cell_type": "code",
   "execution_count": null,
   "id": "ecdaa470",
   "metadata": {},
   "outputs": [],
   "source": [
    "#nationality"
   ]
  },
  {
   "cell_type": "code",
   "execution_count": null,
   "id": "9f5789c8",
   "metadata": {},
   "outputs": [],
   "source": [
    "country={}\n",
    "for i in nationality:\n",
    "    country[i]=0\n",
    "        "
   ]
  },
  {
   "cell_type": "code",
   "execution_count": null,
   "id": "e93c2603",
   "metadata": {},
   "outputs": [],
   "source": [
    "country"
   ]
  },
  {
   "cell_type": "code",
   "execution_count": 196,
   "id": "8483c850",
   "metadata": {},
   "outputs": [],
   "source": [
    "#saving the keys for comparison\n",
    "national=[]\n",
    "for keys in country:\n",
    "    national.append(keys)"
   ]
  },
  {
   "cell_type": "code",
   "execution_count": 197,
   "id": "04f42b57",
   "metadata": {},
   "outputs": [],
   "source": [
    "#national"
   ]
  },
  {
   "cell_type": "code",
   "execution_count": 198,
   "id": "74a258ab",
   "metadata": {},
   "outputs": [],
   "source": [
    "#Check if the list matches the data\n",
    "for i in national:\n",
    "    for j in dataset:\n",
    "        if(i==j[1]):\n",
    "            country[i]+=1\n",
    "           \n",
    "       \n",
    "   "
   ]
  },
  {
   "cell_type": "code",
   "execution_count": 199,
   "id": "1de414e2",
   "metadata": {},
   "outputs": [
    {
     "data": {
      "text/plain": [
       "{'KW': 895,\n",
       " 'lebanon': 85,\n",
       " 'Egypt': 45,\n",
       " 'SaudiArabia': 55,\n",
       " 'USA': 30,\n",
       " 'Jordan': 860,\n",
       " 'venzuela': 5,\n",
       " 'Iran': 30,\n",
       " 'Tunis': 60,\n",
       " 'Morocco': 20,\n",
       " 'Syria': 35,\n",
       " 'Palestine': 140,\n",
       " 'Iraq': 110,\n",
       " 'Lybia': 30}"
      ]
     },
     "execution_count": 199,
     "metadata": {},
     "output_type": "execute_result"
    }
   ],
   "source": [
    "country"
   ]
  },
  {
   "cell_type": "code",
   "execution_count": null,
   "id": "bed6f66f",
   "metadata": {},
   "outputs": [],
   "source": []
  }
 ],
 "metadata": {
  "kernelspec": {
   "display_name": "Python 3",
   "language": "python",
   "name": "python3"
  },
  "language_info": {
   "codemirror_mode": {
    "name": "ipython",
    "version": 3
   },
   "file_extension": ".py",
   "mimetype": "text/x-python",
   "name": "python",
   "nbconvert_exporter": "python",
   "pygments_lexer": "ipython3",
   "version": "3.9.4"
  }
 },
 "nbformat": 4,
 "nbformat_minor": 5
}
