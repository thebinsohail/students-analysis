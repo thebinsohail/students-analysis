{
 "cells": [
  {
   "cell_type": "code",
   "execution_count": 2,
   "metadata": {},
   "outputs": [],
   "source": [
    "import csv"
   ]
  },
  {
   "cell_type": "code",
   "execution_count": 3,
   "metadata": {},
   "outputs": [],
   "source": [
    "f=open(\"students.csv\", encoding=\"utf-8\")\n",
    "data=csv.reader(f)\n",
    "dataset=list(data)"
   ]
  },
  {
   "cell_type": "code",
   "execution_count": 3,
   "metadata": {},
   "outputs": [
    {
     "data": {
      "text/plain": [
       "481"
      ]
     },
     "execution_count": 3,
     "metadata": {},
     "output_type": "execute_result"
    }
   ],
   "source": [
    "len(dataset)"
   ]
  },
  {
   "cell_type": "code",
   "execution_count": 4,
   "metadata": {},
   "outputs": [],
   "source": [
    "dataset_header=dataset[0]"
   ]
  },
  {
   "cell_type": "code",
   "execution_count": 5,
   "metadata": {},
   "outputs": [
    {
     "name": "stdout",
     "output_type": "stream",
     "text": [
      "['\\ufeffgender', 'NationalITy', 'PlaceofBirth', 'StageID', 'GradeID', 'SectionID', 'Topic', 'Semester', 'Relation', 'raisedhands', 'VisITedResources', 'AnnouncementsView', 'Discussion', 'ParentAnsweringSurvey', 'ParentschoolSatisfaction', 'StudentAbsenceDays', 'Class']\n"
     ]
    }
   ],
   "source": [
    "print(dataset_header)"
   ]
  },
  {
   "cell_type": "code",
   "execution_count": 6,
   "metadata": {},
   "outputs": [
    {
     "name": "stdout",
     "output_type": "stream",
     "text": [
      "['\\ufeffgender', 'NationalITy', 'PlaceofBirth', 'StageID', 'GradeID', 'SectionID', 'Topic', 'Semester', 'Relation', 'raisedhands', 'VisITedResources', 'AnnouncementsView', 'Discussion', 'ParentAnsweringSurvey', 'ParentschoolSatisfaction', 'StudentAbsenceDays', 'Class']\n"
     ]
    }
   ],
   "source": [
    "print(dataset[0])"
   ]
  },
  {
   "cell_type": "code",
   "execution_count": 7,
   "metadata": {},
   "outputs": [],
   "source": [
    "## Number of Male and Female Students\n",
    "no_male=[]\n",
    "no_female=[]\n",
    "for i in dataset:\n",
    "    gender=i[0]\n",
    "    #print(i[0])\n",
    "    if gender ==\"M\":\n",
    "        no_male.append(gender)\n",
    "    elif gender==\"F\":\n",
    "        no_female.append(gender)"
   ]
  },
  {
   "cell_type": "code",
   "execution_count": 8,
   "metadata": {},
   "outputs": [
    {
     "data": {
      "text/plain": [
       "305"
      ]
     },
     "execution_count": 8,
     "metadata": {},
     "output_type": "execute_result"
    }
   ],
   "source": [
    "len(no_male)"
   ]
  },
  {
   "cell_type": "code",
   "execution_count": 9,
   "metadata": {},
   "outputs": [
    {
     "data": {
      "text/plain": [
       "175"
      ]
     },
     "execution_count": 9,
     "metadata": {},
     "output_type": "execute_result"
    }
   ],
   "source": [
    "len(no_female)"
   ]
  },
  {
   "cell_type": "code",
   "execution_count": 10,
   "metadata": {},
   "outputs": [],
   "source": [
    "kuwait_std={}\n",
    "## Seprating Students of Different Number of countries\n",
    "for i in dataset:\n",
    "    nationality=i[1]\n",
    "    ##print(nationality)\n",
    "    if nationality==\"KW\" and nationality not in kuwait_std:\n",
    "        kuwait_std[nationality]=1\n",
    "    elif nationality==\"KW\" and nationality in kuwait_std:\n",
    "        kuwait_std[nationality]+=1"
   ]
  },
  {
   "cell_type": "code",
   "execution_count": 11,
   "metadata": {},
   "outputs": [],
   "source": [
    "Jordan_std={}\n",
    "for i in dataset:\n",
    "    nationality=i[1]\n",
    "    if nationality==\"Jordan\" and nationality not in Jordan_std:\n",
    "        Jordan_std[nationality]=1\n",
    "    elif nationality==\"Jordan\" and nationality in Jordan_std:\n",
    "        Jordan_std[nationality]+=1"
   ]
  },
  {
   "cell_type": "code",
   "execution_count": 12,
   "metadata": {},
   "outputs": [],
   "source": [
    "Iraq_std={}\n",
    "for i in dataset:\n",
    "    nationality=i[1]\n",
    "    if nationality==\"Iraq\" and nationality not in Iraq_std:\n",
    "        Iraq_std[nationality]=1\n",
    "    elif nationality==\"Iraq\" and nationality in Iraq_std:\n",
    "        Iraq_std[nationality]+=1"
   ]
  },
  {
   "cell_type": "code",
   "execution_count": 13,
   "metadata": {},
   "outputs": [],
   "source": [
    "Iran_std={}\n",
    "for i in dataset:\n",
    "    nationality=i[1]\n",
    "    if nationality==\"Iran\" and nationality not in Iran_std:\n",
    "        Iran_std[nationality]=1\n",
    "    elif nationality==\"Iran\" and nationality in Iran_std:\n",
    "        Iran_std[nationality]+=1"
   ]
  },
  {
   "cell_type": "code",
   "execution_count": 14,
   "metadata": {},
   "outputs": [],
   "source": [
    "Palestine_std={}\n",
    "for i in dataset:\n",
    "    nationality=i[1]\n",
    "    if nationality==\"Palestine\" and nationality not in Palestine_std:\n",
    "        Palestine_std[nationality]=1\n",
    "    elif nationality==\"Palestine\" and nationality in Palestine_std:\n",
    "        Palestine_std[nationality]+=1"
   ]
  },
  {
   "cell_type": "code",
   "execution_count": 15,
   "metadata": {},
   "outputs": [],
   "source": [
    "SA_std={}\n",
    "for i in dataset:\n",
    "    nationality=i[1]\n",
    "    if nationality==\"SaudiArabia\" and nationality not in SA_std:\n",
    "        SA_std[nationality]=1\n",
    "    elif nationality==\"SaudiArabia\" and nationality in SA_std:\n",
    "        SA_std[nationality]+=1"
   ]
  },
  {
   "cell_type": "code",
   "execution_count": 16,
   "metadata": {},
   "outputs": [],
   "source": [
    "Tunis_std={}\n",
    "for i in dataset:\n",
    "    nationality=i[1]\n",
    "    if nationality==\"Tunis\" and nationality not in Tunis_std:\n",
    "        Tunis_std[nationality]=1\n",
    "    elif nationality==\"Tunis\" and nationality in Tunis_std:\n",
    "        Tunis_std[nationality]+=1"
   ]
  },
  {
   "cell_type": "code",
   "execution_count": 17,
   "metadata": {},
   "outputs": [],
   "source": [
    "Morocco_std={}\n",
    "for i in dataset:\n",
    "    nationality=i[1]\n",
    "    if nationality==\"Morocco\" and nationality not in Morocco_std:\n",
    "        Morocco_std[nationality]=1\n",
    "    elif nationality==\"Morocco\" and nationality in Morocco_std:\n",
    "        Morocco_std[nationality]+=1"
   ]
  },
  {
   "cell_type": "code",
   "execution_count": 18,
   "metadata": {},
   "outputs": [],
   "source": [
    "Syria_std={}\n",
    "for i in dataset:\n",
    "    nationality=i[1]\n",
    "    if nationality==\"Syria\" and nationality not in Syria_std:\n",
    "        Syria_std[nationality]=1\n",
    "    elif nationality==\"Syria\" and nationality in Syria_std:\n",
    "        Syria_std[nationality]+=1"
   ]
  },
  {
   "cell_type": "code",
   "execution_count": 19,
   "metadata": {},
   "outputs": [],
   "source": [
    "Egypt_std={}\n",
    "for i in dataset:\n",
    "    nationality=i[1]\n",
    "    if nationality==\"Egypt\" and nationality not in Egypt_std:\n",
    "        Egypt_std[nationality]=1\n",
    "    elif nationality==\"Egypt\" and nationality in Egypt_std:\n",
    "        Egypt_std[nationality]+=1"
   ]
  },
  {
   "cell_type": "code",
   "execution_count": 20,
   "metadata": {},
   "outputs": [],
   "source": [
    "lebanon_std={}\n",
    "for i in dataset:\n",
    "    nationality=i[1]\n",
    "    if nationality==\"lebanon\" and nationality not in lebanon_std:\n",
    "        lebanon_std[nationality]=1\n",
    "    elif nationality==\"lebaon\" and nationality in lebanon_std:\n",
    "        lebanon_std[nationality]+=1"
   ]
  },
  {
   "cell_type": "code",
   "execution_count": 21,
   "metadata": {},
   "outputs": [],
   "source": [
    "venzuela_std={}\n",
    "for i in dataset:\n",
    "    nationality=i[1]\n",
    "    if nationality==\"venzuela\" and nationality not in venzuela_std:\n",
    "        venzuela_std[nationality]=1\n",
    "    elif nationality==\"venzuela\" and nationality in venzuela_std:\n",
    "        venzuela_std[nationality]+=1"
   ]
  },
  {
   "cell_type": "code",
   "execution_count": 22,
   "metadata": {},
   "outputs": [],
   "source": [
    "USA_std={}\n",
    "for i in dataset:\n",
    "    nationality=i[1]\n",
    "    if nationality==\"USA\" and nationality not in USA_std:\n",
    "        USA_std[nationality]=1\n",
    "    elif nationality==\"USA\" and nationality in USA_std:\n",
    "        USA_std[nationality]+=1"
   ]
  },
  {
   "cell_type": "code",
   "execution_count": 23,
   "metadata": {},
   "outputs": [
    {
     "name": "stdout",
     "output_type": "stream",
     "text": [
      "{'USA': 6}\n",
      "\n",
      "{'venzuela': 1}\n",
      "\n",
      "{'lebanon': 1}\n",
      "\n",
      "{'Iran': 6}\n",
      "\n",
      "{'Jordan': 172}\n",
      "\n",
      "{'KW': 179}\n",
      "\n",
      "{'SaudiArabia': 11}\n",
      "\n",
      "{'Palestine': 28}\n",
      "\n",
      "{'Syria': 7}\n",
      "\n",
      "{'Egypt': 9}\n",
      "\n",
      "{'Morocco': 4}\n",
      "\n",
      "{'Tunis': 12}\n",
      "\n"
     ]
    }
   ],
   "source": [
    "print(USA_std)\n",
    "print()\n",
    "print(venzuela_std)\n",
    "print()\n",
    "print(lebanon_std)\n",
    "print()\n",
    "print(Iran_std)\n",
    "print()\n",
    "print(Jordan_std)\n",
    "print()\n",
    "print(kuwait_std)\n",
    "print()\n",
    "print(SA_std)\n",
    "print()\n",
    "print(Palestine_std)\n",
    "print()\n",
    "print(Syria_std)\n",
    "print()\n",
    "print(Egypt_std)\n",
    "print()\n",
    "print(Morocco_std)\n",
    "print()\n",
    "print(Tunis_std)\n",
    "print()"
   ]
  },
  {
   "cell_type": "code",
   "execution_count": 24,
   "metadata": {},
   "outputs": [],
   "source": [
    "## stages of students \n",
    "stagesid=[]\n",
    "highsch=[]\n",
    "lowerlvl=[]\n",
    "middlesch=[]\n",
    "for i in dataset:\n",
    "    stages=str(i[3])\n",
    "    if stages not in stagesid:\n",
    "        stagesid.append(stages)\n",
    "    if stages==\"HighSchool\":\n",
    "        highsch.append(stages)   \n",
    "    if stages==\"MiddleSchool\":\n",
    "        middlesch.append(stages)\n",
    "    if stages==\"lowerlevel\":\n",
    "        lowerlvl.append(stages) "
   ]
  },
  {
   "cell_type": "code",
   "execution_count": 25,
   "metadata": {},
   "outputs": [],
   "source": [
    "## Average Students\n",
    "avg_std=[]\n",
    "for i in dataset:\n",
    "    total_std=len(i[3])\n",
    "    if total_std not in avg_std:\n",
    "        no_std=1\n",
    "    if total_std in avg_std:\n",
    "        no_std+=1\n",
    "avg=total_std/no_std\n",
    "avg_std.append(avg)  "
   ]
  },
  {
   "cell_type": "code",
   "execution_count": 26,
   "metadata": {},
   "outputs": [
    {
     "data": {
      "text/plain": [
       "[12.0]"
      ]
     },
     "execution_count": 26,
     "metadata": {},
     "output_type": "execute_result"
    }
   ],
   "source": [
    "avg_std"
   ]
  }
 ],
 "metadata": {
  "kernelspec": {
   "display_name": "Python 3",
   "language": "python",
   "name": "python3"
  },
  "language_info": {
   "codemirror_mode": {
    "name": "ipython",
    "version": 3
   },
   "file_extension": ".py",
   "mimetype": "text/x-python",
   "name": "python",
   "nbconvert_exporter": "python",
   "pygments_lexer": "ipython3",
   "version": "3.9.4"
  }
 },
 "nbformat": 4,
 "nbformat_minor": 4
}
