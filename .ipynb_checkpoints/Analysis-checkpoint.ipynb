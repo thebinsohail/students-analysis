{
 "cells": [
  {
   "cell_type": "code",
   "execution_count": 56,
   "id": "fe06f202",
   "metadata": {},
   "outputs": [],
   "source": [
    "import csv"
   ]
  },
  {
   "cell_type": "code",
   "execution_count": 57,
   "id": "b1779238",
   "metadata": {},
   "outputs": [],
   "source": [
    "file=open(\"students.csv\", encoding=\"utf-8\")\n",
    "data=csv.reader(file)\n",
    "dataset=list(data)"
   ]
  },
  {
   "cell_type": "code",
   "execution_count": 58,
   "id": "81064bcd",
   "metadata": {},
   "outputs": [
    {
     "data": {
      "text/plain": [
       "481"
      ]
     },
     "execution_count": 58,
     "metadata": {},
     "output_type": "execute_result"
    }
   ],
   "source": [
    "#printing the length of the dataset\n",
    "len(dataset)"
   ]
  },
  {
   "cell_type": "code",
   "execution_count": 59,
   "id": "163374c7",
   "metadata": {},
   "outputs": [],
   "source": [
    "# Getting the headers of the dataset\n",
    "dataset_headings=dataset[0]"
   ]
  },
  {
   "cell_type": "code",
   "execution_count": 60,
   "id": "7a22f0c9",
   "metadata": {},
   "outputs": [],
   "source": [
    "#dataset_headings"
   ]
  },
  {
   "cell_type": "code",
   "execution_count": 61,
   "id": "9cb6ea8a",
   "metadata": {},
   "outputs": [],
   "source": [
    "## Number of Male and Female Students\n",
    "total_students=0\n",
    "male_students=[]\n",
    "female_students=[]\n",
    "for i in dataset:\n",
    "    gender=i[0]\n",
    "    total_students+=len(gender)\n",
    "    if gender ==\"M\":\n",
    "        male_students.append(gender)\n",
    "    elif gender==\"F\":\n",
    "        female_students.append(gender)"
   ]
  },
  {
   "cell_type": "code",
   "execution_count": 62,
   "id": "c99c7f90",
   "metadata": {},
   "outputs": [],
   "source": [
    "male_count=len(male_students)\n",
    "female_count=len(female_students)"
   ]
  },
  {
   "cell_type": "code",
   "execution_count": 63,
   "id": "70a61b0b",
   "metadata": {},
   "outputs": [],
   "source": [
    "#creating a dictionary key/value\n",
    "gender={\"male\":male_count,\"female\":female_count}"
   ]
  },
  {
   "cell_type": "code",
   "execution_count": 64,
   "id": "0ac8252b",
   "metadata": {},
   "outputs": [
    {
     "name": "stdout",
     "output_type": "stream",
     "text": [
      "{'male': 305, 'female': 175}\n"
     ]
    }
   ],
   "source": [
    "print(gender)"
   ]
  },
  {
   "cell_type": "code",
   "execution_count": 65,
   "id": "908b4c65",
   "metadata": {},
   "outputs": [],
   "source": [
    "nationality=[]\n",
    "for i in dataset:\n",
    "    if(i[1]!='NationalITy'):\n",
    "     nationality.append(i[1])"
   ]
  },
  {
   "cell_type": "code",
   "execution_count": 66,
   "id": "ecdaa470",
   "metadata": {},
   "outputs": [],
   "source": [
    "#nationality"
   ]
  },
  {
   "cell_type": "code",
   "execution_count": 67,
   "id": "9f5789c8",
   "metadata": {},
   "outputs": [],
   "source": [
    "country={}\n",
    "for i in nationality:\n",
    "    country[i]=0\n",
    "        "
   ]
  },
  {
   "cell_type": "code",
   "execution_count": 68,
   "id": "e93c2603",
   "metadata": {},
   "outputs": [
    {
     "data": {
      "text/plain": [
       "{'KW': 0,\n",
       " 'lebanon': 0,\n",
       " 'Egypt': 0,\n",
       " 'SaudiArabia': 0,\n",
       " 'USA': 0,\n",
       " 'Jordan': 0,\n",
       " 'venzuela': 0,\n",
       " 'Iran': 0,\n",
       " 'Tunis': 0,\n",
       " 'Morocco': 0,\n",
       " 'Syria': 0,\n",
       " 'Palestine': 0,\n",
       " 'Iraq': 0,\n",
       " 'Lybia': 0}"
      ]
     },
     "execution_count": 68,
     "metadata": {},
     "output_type": "execute_result"
    }
   ],
   "source": [
    "country"
   ]
  },
  {
   "cell_type": "code",
   "execution_count": 69,
   "id": "8483c850",
   "metadata": {},
   "outputs": [],
   "source": [
    "#saving the keys for comparison\n",
    "national=[]\n",
    "for keys in country:\n",
    "    national.append(keys)"
   ]
  },
  {
   "cell_type": "code",
   "execution_count": 70,
   "id": "04f42b57",
   "metadata": {},
   "outputs": [],
   "source": [
    "#national"
   ]
  },
  {
   "cell_type": "code",
   "execution_count": 71,
   "id": "74a258ab",
   "metadata": {},
   "outputs": [],
   "source": [
    "#Check if the list matches the data\n",
    "for i in national:\n",
    "    for j in dataset:\n",
    "        if(i==j[1]):\n",
    "            country[i]+=1\n",
    "           \n",
    "       \n",
    "   "
   ]
  },
  {
   "cell_type": "code",
   "execution_count": 75,
   "id": "93fb2e37",
   "metadata": {},
   "outputs": [
    {
     "name": "stdout",
     "output_type": "stream",
     "text": [
      "Total number of Students:  487\n"
     ]
    }
   ],
   "source": [
    "print(\"Total number of Students: \",total_students)"
   ]
  },
  {
   "cell_type": "code",
   "execution_count": 73,
   "id": "1de414e2",
   "metadata": {},
   "outputs": [
    {
     "data": {
      "text/plain": [
       "{'KW': 179,\n",
       " 'lebanon': 17,\n",
       " 'Egypt': 9,\n",
       " 'SaudiArabia': 11,\n",
       " 'USA': 6,\n",
       " 'Jordan': 172,\n",
       " 'venzuela': 1,\n",
       " 'Iran': 6,\n",
       " 'Tunis': 12,\n",
       " 'Morocco': 4,\n",
       " 'Syria': 7,\n",
       " 'Palestine': 28,\n",
       " 'Iraq': 22,\n",
       " 'Lybia': 6}"
      ]
     },
     "execution_count": 73,
     "metadata": {},
     "output_type": "execute_result"
    }
   ],
   "source": [
    "print(\"Total Students by Country \",country)"
   ]
  },
  {
   "cell_type": "code",
   "execution_count": 74,
   "id": "bed6f66f",
   "metadata": {},
   "outputs": [
    {
     "name": "stdout",
     "output_type": "stream",
     "text": [
      "Total Male and Female \n"
     ]
    },
    {
     "data": {
      "text/plain": [
       "{'male': 305, 'female': 175}"
      ]
     },
     "execution_count": 74,
     "metadata": {},
     "output_type": "execute_result"
    }
   ],
   "source": [
    "print(\"Total Male and Female \")\n",
    "gender"
   ]
  }
 ],
 "metadata": {
  "kernelspec": {
   "display_name": "Python 3",
   "language": "python",
   "name": "python3"
  },
  "language_info": {
   "codemirror_mode": {
    "name": "ipython",
    "version": 3
   },
   "file_extension": ".py",
   "mimetype": "text/x-python",
   "name": "python",
   "nbconvert_exporter": "python",
   "pygments_lexer": "ipython3",
   "version": "3.9.4"
  }
 },
 "nbformat": 4,
 "nbformat_minor": 5
}
